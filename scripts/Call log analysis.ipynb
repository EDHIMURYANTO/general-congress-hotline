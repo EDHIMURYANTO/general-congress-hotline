{
 "cells": [
  {
   "cell_type": "code",
   "execution_count": 81,
   "metadata": {
    "collapsed": false,
    "deletable": true,
    "editable": true
   },
   "outputs": [],
   "source": [
    "import pandas as pd\n",
    "import matplotlib.pyplot as plt\n",
    "import numpy as np"
   ]
  },
  {
   "cell_type": "code",
   "execution_count": 89,
   "metadata": {
    "collapsed": true
   },
   "outputs": [],
   "source": [
    "plt.rcParams['figure.figsize'] = (20, 10)\n",
    "plt.rcParams.update({'font.size': 22})"
   ]
  },
  {
   "cell_type": "code",
   "execution_count": 60,
   "metadata": {
    "collapsed": false,
    "deletable": true,
    "editable": true
   },
   "outputs": [],
   "source": [
    "logs = pd.read_csv('./logs_844usa.csv')\n",
    "logs['minutes'] = logs['duration'] / 60"
   ]
  },
  {
   "cell_type": "code",
   "execution_count": 62,
   "metadata": {
    "collapsed": false,
    "deletable": true,
    "editable": true
   },
   "outputs": [],
   "source": [
    "congress = pd.read_csv('./congress.csv')"
   ]
  },
  {
   "cell_type": "code",
   "execution_count": 65,
   "metadata": {
    "collapsed": false,
    "deletable": true,
    "editable": true
   },
   "outputs": [],
   "source": [
    "merged = logs.merge(congress, left_on='to', right_on='phone')"
   ]
  },
  {
   "cell_type": "code",
   "execution_count": 66,
   "metadata": {
    "collapsed": false,
    "deletable": true,
    "editable": true
   },
   "outputs": [
    {
     "name": "stdout",
     "output_type": "stream",
     "text": [
      "Total calls: 15633\n",
      "Total busy: 949\n",
      "Busy ratio: 6.07049190814 %\n",
      "\n",
      "Average call duration (s): 49.4805219727\n",
      "Median call duration (s): 36.0\n",
      "Average non-zero call duration (s): 63.3261563651\n",
      "Median non-zero call duration (s): 49.0\n",
      "Longest call (minutes): 25\n"
     ]
    }
   ],
   "source": [
    "num_total = len(merged)\n",
    "num_busy = len(merged[merged['status'] == 'busy'])\n",
    "print 'Total calls:', num_total\n",
    "print 'Total busy:', num_busy\n",
    "print 'Busy ratio:', float(num_busy) / num_total * 100, '%'\n",
    "print\n",
    "print 'Average call duration (s):', merged['duration'].mean()\n",
    "print 'Median call duration (s):', merged['duration'].median()\n",
    "\n",
    "nonzero = merged[merged['duration'] > 0]\n",
    "print 'Average non-zero call duration (s):', nonzero['duration'].mean()\n",
    "print 'Median non-zero call duration (s):', nonzero['duration'].median()\n",
    "\n",
    "print 'Longest call (minutes):', nonzero['duration'].max() / 60"
   ]
  },
  {
   "cell_type": "code",
   "execution_count": 106,
   "metadata": {
    "collapsed": false,
    "deletable": true,
    "editable": true
   },
   "outputs": [
    {
     "data": {
      "image/png": "[encoded data removed]",
      "text/plain": [
       "<matplotlib.figure.Figure at 0x127b757d0>"
      ]
     },
     "metadata": {},
     "output_type": "display_data"
    },
    {
     "name": "stdout",
     "output_type": "stream",
     "text": [
      "                 from              to     status  duration      direction  \\\n",
      "0      (310) 447-4513  (202) 224-3553  completed        26  outbound-dial   \n",
      "1      (323) 702-0878  (202) 224-3553  completed        45  outbound-dial   \n",
      "2      (323) 702-0878  (202) 224-3553  completed        17  outbound-dial   \n",
      "3      (530) 338-6548  (202) 224-3553  completed        23  outbound-dial   \n",
      "4      (706) 699-6863  (202) 224-3553  completed        87  outbound-dial   \n",
      "5      (559) 287-6593  (202) 224-3553  completed        56  outbound-dial   \n",
      "6      (530) 472-3353  (202) 224-3553  completed        61  outbound-dial   \n",
      "7      (760) 271-3247  (202) 224-3553  completed        31  outbound-dial   \n",
      "8      (530) 902-5985  (202) 224-3553   canceled         0  outbound-dial   \n",
      "9      (530) 902-5985  (202) 224-3553  completed        16  outbound-dial   \n",
      "10     (760) 481-5636  (202) 224-3553  completed        39  outbound-dial   \n",
      "11     (323) 637-8947  (202) 224-3553  completed        27  outbound-dial   \n",
      "12     (707) 481-7449  (202) 224-3553  no-answer         0  outbound-dial   \n",
      "13     (916) 747-3632  (202) 224-3553  completed        52  outbound-dial   \n",
      "14     (916) 798-3286  (202) 224-3553  completed        43  outbound-dial   \n",
      "15     (619) 300-7770  (202) 224-3553  completed        38  outbound-dial   \n",
      "16     (310) 420-6961  (202) 224-3553  completed        38  outbound-dial   \n",
      "17     (706) 699-6863  (202) 224-3553   canceled         0  outbound-dial   \n",
      "18     (706) 699-6863  (202) 224-3553  completed        93  outbound-dial   \n",
      "19     (714) 458-4205  (202) 224-3553  completed        42  outbound-dial   \n",
      "20     (541) 653-6612  (202) 224-3553   canceled         0  outbound-dial   \n",
      "21     (541) 653-6612  (202) 224-3553  completed        71  outbound-dial   \n",
      "22     (916) 921-6088  (202) 224-3553  completed        15  outbound-dial   \n",
      "23     (251) 455-6713  (202) 224-3553  completed        38  outbound-dial   \n",
      "24     (251) 455-6713  (202) 224-3553  no-answer         0  outbound-dial   \n",
      "25     (408) 836-9748  (202) 224-3553  completed        93  outbound-dial   \n",
      "26     (559) 515-8358  (202) 224-3553  completed        48  outbound-dial   \n",
      "27     (714) 521-5863  (202) 224-3553  completed       100  outbound-dial   \n",
      "28     (415) 884-0266  (202) 224-3553   canceled         0  outbound-dial   \n",
      "29     (415) 884-0562  (202) 224-3553  no-answer         0  outbound-dial   \n",
      "...               ...             ...        ...       ...            ...   \n",
      "15603  (787) 910-8335  (202) 225-2615  no-answer         0  outbound-dial   \n",
      "15604  (323) 483-8678  (202) 225-8220  completed        23  outbound-dial   \n",
      "15605  (323) 483-8678  (202) 225-8220  completed        30  outbound-dial   \n",
      "15606  (678) 699-7193  (202) 225-4101  completed        28  outbound-dial   \n",
      "15607  (478) 737-2876  (202) 225-4101  completed        19  outbound-dial   \n",
      "15608  (470) 800-1546  (202) 225-4101  completed        46  outbound-dial   \n",
      "15609  (678) 822-8053  (202) 225-4101  completed        26  outbound-dial   \n",
      "15610  (919) 884-9284  (202) 225-4101  completed        44  outbound-dial   \n",
      "15611  (678) 235-1647  (202) 225-4101  completed        43  outbound-dial   \n",
      "15612  (678) 235-1647  (202) 225-4101  completed         5  outbound-dial   \n",
      "15613  (601) 506-8715  (202) 225-5031  completed        17  outbound-dial   \n",
      "15614  (601) 255-4393  (202) 225-5031  completed        37  outbound-dial   \n",
      "15615  (817) 307-3868  (202) 225-4005  completed        19  outbound-dial   \n",
      "15616  (210) 838-7626  (202) 225-4005  completed        57  outbound-dial   \n",
      "15617  (210) 838-7626  (202) 225-4005  completed        24  outbound-dial   \n",
      "15618  (718) 807-8090  (202) 225-4476  completed        42  outbound-dial   \n",
      "15619  (913) 302-9481  (202) 225-2865  completed         5  outbound-dial   \n",
      "15620  (913) 302-9481  (202) 225-2865  completed        13  outbound-dial   \n",
      "15621  (913) 221-8517  (202) 225-2865  completed        31  outbound-dial   \n",
      "15622  (706) 306-3998  (202) 225-2823  completed        94  outbound-dial   \n",
      "15623  (706) 832-9913  (202) 225-2823  completed        23  outbound-dial   \n",
      "15624  (317) 450-8367  (202) 225-4436  completed        28  outbound-dial   \n",
      "15625  (201) 674-6869  (202) 225-2706  completed        63  outbound-dial   \n",
      "15626  (757) 610-3856  (202) 225-6365  completed        87  outbound-dial   \n",
      "15627  (757) 310-8377  (202) 225-6365  completed        37  outbound-dial   \n",
      "15628  (804) 252-0867  (202) 225-6365  no-answer         0  outbound-dial   \n",
      "15629  (757) 630-1065  (202) 225-6365  completed       107  outbound-dial   \n",
      "15630  (678) 235-1647  (202) 225-9893  completed        39  outbound-dial   \n",
      "15631  (269) 979-3853  (202) 225-3831  completed        43  outbound-dial   \n",
      "15632  (401) 663-4196  (202) 225-2735  completed        25  outbound-dial   \n",
      "\n",
      "                      time   minutes           phone state  district  \\\n",
      "0      2017-05-19T03:49:59  0.433333  (202) 224-3553    CA       NaN   \n",
      "1      2017-05-18T21:50:33  0.750000  (202) 224-3553    CA       NaN   \n",
      "2      2017-05-18T21:27:08  0.283333  (202) 224-3553    CA       NaN   \n",
      "3      2017-05-18T00:03:32  0.383333  (202) 224-3553    CA       NaN   \n",
      "4      2017-05-17T23:41:59  1.450000  (202) 224-3553    CA       NaN   \n",
      "5      2017-05-17T16:09:17  0.933333  (202) 224-3553    CA       NaN   \n",
      "6      2017-05-17T13:47:08  1.016667  (202) 224-3553    CA       NaN   \n",
      "7      2017-05-17T04:24:59  0.516667  (202) 224-3553    CA       NaN   \n",
      "8      2017-05-17T01:08:01  0.000000  (202) 224-3553    CA       NaN   \n",
      "9      2017-05-17T01:07:09  0.266667  (202) 224-3553    CA       NaN   \n",
      "10     2017-05-17T00:47:22  0.650000  (202) 224-3553    CA       NaN   \n",
      "11     2017-05-17T00:26:19  0.450000  (202) 224-3553    CA       NaN   \n",
      "12     2017-05-16T20:38:22  0.000000  (202) 224-3553    CA       NaN   \n",
      "13     2017-05-16T19:13:08  0.866667  (202) 224-3553    CA       NaN   \n",
      "14     2017-05-16T16:44:17  0.716667  (202) 224-3553    CA       NaN   \n",
      "15     2017-05-16T16:34:58  0.633333  (202) 224-3553    CA       NaN   \n",
      "16     2017-05-16T14:28:02  0.633333  (202) 224-3553    CA       NaN   \n",
      "17     2017-05-15T19:29:02  0.000000  (202) 224-3553    CA       NaN   \n",
      "18     2017-05-15T19:26:32  1.550000  (202) 224-3553    CA       NaN   \n",
      "19     2017-05-12T18:00:47  0.700000  (202) 224-3553    CA       NaN   \n",
      "20     2017-05-11T19:07:36  0.000000  (202) 224-3553    CA       NaN   \n",
      "21     2017-05-11T19:00:20  1.183333  (202) 224-3553    CA       NaN   \n",
      "22     2017-05-11T17:18:09  0.250000  (202) 224-3553    CA       NaN   \n",
      "23     2017-05-11T16:31:39  0.633333  (202) 224-3553    CA       NaN   \n",
      "24     2017-05-11T16:28:40  0.000000  (202) 224-3553    CA       NaN   \n",
      "25     2017-05-11T16:04:03  1.550000  (202) 224-3553    CA       NaN   \n",
      "26     2017-05-11T15:20:18  0.800000  (202) 224-3553    CA       NaN   \n",
      "27     2017-05-11T14:04:38  1.666667  (202) 224-3553    CA       NaN   \n",
      "28     2017-05-10T22:54:21  0.000000  (202) 224-3553    CA       NaN   \n",
      "29     2017-05-10T22:29:57  0.000000  (202) 224-3553    CA       NaN   \n",
      "...                    ...       ...             ...   ...       ...   \n",
      "15603  2017-01-16T22:27:44  0.000000  (202) 225-2615    PR       0.0   \n",
      "15604  2017-01-15T07:47:58  0.383333  (202) 225-8220    CA      44.0   \n",
      "15605  2017-01-15T07:46:30  0.500000  (202) 225-8220    CA      44.0   \n",
      "15606  2017-01-14T13:21:18  0.466667  (202) 225-4101    GA      10.0   \n",
      "15607  2017-01-13T21:39:24  0.316667  (202) 225-4101    GA      10.0   \n",
      "15608  2017-01-13T21:05:46  0.766667  (202) 225-4101    GA      10.0   \n",
      "15609  2017-01-13T20:41:59  0.433333  (202) 225-4101    GA      10.0   \n",
      "15610  2017-01-13T17:04:05  0.733333  (202) 225-4101    GA      10.0   \n",
      "15611  2017-01-13T15:59:20  0.716667  (202) 225-4101    GA      10.0   \n",
      "15612  2017-01-13T15:51:07  0.083333  (202) 225-4101    GA      10.0   \n",
      "15613  2017-01-14T02:44:30  0.283333  (202) 225-5031    MS       3.0   \n",
      "15614  2017-01-12T21:14:48  0.616667  (202) 225-5031    MS       3.0   \n",
      "15615  2017-01-14T01:24:31  0.316667  (202) 225-4005    TX      19.0   \n",
      "15616  2017-01-14T01:20:58  0.950000  (202) 225-4005    TX      19.0   \n",
      "15617  2017-01-14T01:14:11  0.400000  (202) 225-4005    TX      19.0   \n",
      "15618  2017-01-14T00:02:44  0.700000  (202) 225-4476    CT       5.0   \n",
      "15619  2017-01-13T22:15:30  0.083333  (202) 225-2865    KS       3.0   \n",
      "15620  2017-01-13T22:14:11  0.216667  (202) 225-2865    KS       3.0   \n",
      "15621  2016-06-20T15:41:43  0.516667  (202) 225-2865    KS       3.0   \n",
      "15622  2017-01-13T21:38:13  1.566667  (202) 225-2823    GA      12.0   \n",
      "15623  2017-01-13T16:43:11  0.383333  (202) 225-2823    GA      12.0   \n",
      "15624  2017-01-13T20:45:42  0.466667  (202) 225-4436    IN       3.0   \n",
      "15625  2017-01-13T19:53:22  1.050000  (202) 225-2706    FL       6.0   \n",
      "15626  2017-01-13T16:05:26  1.450000  (202) 225-6365    VA       4.0   \n",
      "15627  2017-01-13T15:31:35  0.616667  (202) 225-6365    VA       4.0   \n",
      "15628  2017-01-13T15:00:00  0.000000  (202) 225-6365    VA       4.0   \n",
      "15629  2016-06-20T18:44:21  1.783333  (202) 225-6365    VA       4.0   \n",
      "15630  2017-01-13T16:00:17  0.650000  (202) 225-9893    GA       9.0   \n",
      "15631  2017-01-13T15:54:08  0.716667  (202) 225-3831    MI       3.0   \n",
      "15632  2017-01-12T20:42:32  0.416667  (202) 225-2735    RI       2.0   \n",
      "\n",
      "                  title_long person__firstname person__lastname  \\\n",
      "0                    Senator            Kamala           Harris   \n",
      "1                    Senator            Kamala           Harris   \n",
      "2                    Senator            Kamala           Harris   \n",
      "3                    Senator            Kamala           Harris   \n",
      "4                    Senator            Kamala           Harris   \n",
      "5                    Senator            Kamala           Harris   \n",
      "6                    Senator            Kamala           Harris   \n",
      "7                    Senator            Kamala           Harris   \n",
      "8                    Senator            Kamala           Harris   \n",
      "9                    Senator            Kamala           Harris   \n",
      "10                   Senator            Kamala           Harris   \n",
      "11                   Senator            Kamala           Harris   \n",
      "12                   Senator            Kamala           Harris   \n",
      "13                   Senator            Kamala           Harris   \n",
      "14                   Senator            Kamala           Harris   \n",
      "15                   Senator            Kamala           Harris   \n",
      "16                   Senator            Kamala           Harris   \n",
      "17                   Senator            Kamala           Harris   \n",
      "18                   Senator            Kamala           Harris   \n",
      "19                   Senator            Kamala           Harris   \n",
      "20                   Senator            Kamala           Harris   \n",
      "21                   Senator            Kamala           Harris   \n",
      "22                   Senator            Kamala           Harris   \n",
      "23                   Senator            Kamala           Harris   \n",
      "24                   Senator            Kamala           Harris   \n",
      "25                   Senator            Kamala           Harris   \n",
      "26                   Senator            Kamala           Harris   \n",
      "27                   Senator            Kamala           Harris   \n",
      "28                   Senator            Kamala           Harris   \n",
      "29                   Senator            Kamala           Harris   \n",
      "...                      ...               ...              ...   \n",
      "15603  Resident Commissioner         Jenniffer   González-Colón   \n",
      "15604         Representative           Nanette         Barragán   \n",
      "15605         Representative           Nanette         Barragán   \n",
      "15606         Representative              Jody             Hice   \n",
      "15607         Representative              Jody             Hice   \n",
      "15608         Representative              Jody             Hice   \n",
      "15609         Representative              Jody             Hice   \n",
      "15610         Representative              Jody             Hice   \n",
      "15611         Representative              Jody             Hice   \n",
      "15612         Representative              Jody             Hice   \n",
      "15613         Representative             Gregg           Harper   \n",
      "15614         Representative             Gregg           Harper   \n",
      "15615         Representative             Jodey        Arrington   \n",
      "15616         Representative             Jodey        Arrington   \n",
      "15617         Representative             Jodey        Arrington   \n",
      "15618         Representative         Elizabeth             Esty   \n",
      "15619         Representative             Kevin            Yoder   \n",
      "15620         Representative             Kevin            Yoder   \n",
      "15621         Representative             Kevin            Yoder   \n",
      "15622         Representative              Rick            Allen   \n",
      "15623         Representative              Rick            Allen   \n",
      "15624         Representative               Jim            Banks   \n",
      "15625         Representative               Ron         DeSantis   \n",
      "15626         Representative                A.         McEachin   \n",
      "15627         Representative                A.         McEachin   \n",
      "15628         Representative                A.         McEachin   \n",
      "15629         Representative                A.         McEachin   \n",
      "15630         Representative              Doug          Collins   \n",
      "15631         Representative            Justin            Amash   \n",
      "15632         Representative             James         Langevin   \n",
      "\n",
      "                                    person__name  \n",
      "0                      Sen. Kamala Harris [D-CA]  \n",
      "1                      Sen. Kamala Harris [D-CA]  \n",
      "2                      Sen. Kamala Harris [D-CA]  \n",
      "3                      Sen. Kamala Harris [D-CA]  \n",
      "4                      Sen. Kamala Harris [D-CA]  \n",
      "5                      Sen. Kamala Harris [D-CA]  \n",
      "6                      Sen. Kamala Harris [D-CA]  \n",
      "7                      Sen. Kamala Harris [D-CA]  \n",
      "8                      Sen. Kamala Harris [D-CA]  \n",
      "9                      Sen. Kamala Harris [D-CA]  \n",
      "10                     Sen. Kamala Harris [D-CA]  \n",
      "11                     Sen. Kamala Harris [D-CA]  \n",
      "12                     Sen. Kamala Harris [D-CA]  \n",
      "13                     Sen. Kamala Harris [D-CA]  \n",
      "14                     Sen. Kamala Harris [D-CA]  \n",
      "15                     Sen. Kamala Harris [D-CA]  \n",
      "16                     Sen. Kamala Harris [D-CA]  \n",
      "17                     Sen. Kamala Harris [D-CA]  \n",
      "18                     Sen. Kamala Harris [D-CA]  \n",
      "19                     Sen. Kamala Harris [D-CA]  \n",
      "20                     Sen. Kamala Harris [D-CA]  \n",
      "21                     Sen. Kamala Harris [D-CA]  \n",
      "22                     Sen. Kamala Harris [D-CA]  \n",
      "23                     Sen. Kamala Harris [D-CA]  \n",
      "24                     Sen. Kamala Harris [D-CA]  \n",
      "25                     Sen. Kamala Harris [D-CA]  \n",
      "26                     Sen. Kamala Harris [D-CA]  \n",
      "27                     Sen. Kamala Harris [D-CA]  \n",
      "28                     Sen. Kamala Harris [D-CA]  \n",
      "29                     Sen. Kamala Harris [D-CA]  \n",
      "...                                          ...  \n",
      "15603  Commish. Jenniffer González-Colón [R-PR0]  \n",
      "15604             Rep. Nanette Barragán [D-CA44]  \n",
      "15605             Rep. Nanette Barragán [D-CA44]  \n",
      "15606                    Rep. Jody Hice [R-GA10]  \n",
      "15607                    Rep. Jody Hice [R-GA10]  \n",
      "15608                    Rep. Jody Hice [R-GA10]  \n",
      "15609                    Rep. Jody Hice [R-GA10]  \n",
      "15610                    Rep. Jody Hice [R-GA10]  \n",
      "15611                    Rep. Jody Hice [R-GA10]  \n",
      "15612                    Rep. Jody Hice [R-GA10]  \n",
      "15613                  Rep. Gregg Harper [R-MS3]  \n",
      "15614                  Rep. Gregg Harper [R-MS3]  \n",
      "15615              Rep. Jodey Arrington [R-TX19]  \n",
      "15616              Rep. Jodey Arrington [R-TX19]  \n",
      "15617              Rep. Jodey Arrington [R-TX19]  \n",
      "15618                Rep. Elizabeth Esty [D-CT5]  \n",
      "15619                   Rep. Kevin Yoder [R-KS3]  \n",
      "15620                   Rep. Kevin Yoder [R-KS3]  \n",
      "15621                   Rep. Kevin Yoder [R-KS3]  \n",
      "15622                   Rep. Rick Allen [R-GA12]  \n",
      "15623                   Rep. Rick Allen [R-GA12]  \n",
      "15624                     Rep. Jim Banks [R-IN3]  \n",
      "15625                  Rep. Ron DeSantis [R-FL6]  \n",
      "15626               Rep. Donald McEachin [D-VA4]  \n",
      "15627               Rep. Donald McEachin [D-VA4]  \n",
      "15628               Rep. Donald McEachin [D-VA4]  \n",
      "15629               Rep. Donald McEachin [D-VA4]  \n",
      "15630                  Rep. Doug Collins [R-GA9]  \n",
      "15631                  Rep. Justin Amash [R-MI3]  \n",
      "15632          Rep. James “Jim” Langevin [D-RI2]  \n",
      "\n",
      "[15633 rows x 14 columns]\n"
     ]
    }
   ],
   "source": [
    "# Duration histogram\n",
    "plt.hist(nonzero['duration'], bins=200)\n",
    "plt.show()"
   ]
  },
  {
   "cell_type": "code",
   "execution_count": null,
   "metadata": {
    "collapsed": false
   },
   "outputs": [],
   "source": [
    "# Calls over time\n",
    "uniques, counts = np.unique(merged['time'], return_counts=True)\n",
    "plt.bar(np.array(uniques, dtype='datetime64[D]'), counts)\n",
    "plt.show()"
   ]
  },
  {
   "cell_type": "code",
   "execution_count": null,
   "metadata": {
    "collapsed": true
   },
   "outputs": [],
   "source": [
    "# Duration by time of day\n"
   ]
  },
  {
   "cell_type": "code",
   "execution_count": 96,
   "metadata": {
    "collapsed": false
   },
   "outputs": [
    {
     "data": {
      "image/png": "[encoded data removed]",
      "text/plain": [
       "<matplotlib.figure.Figure at 0x1144cad50>"
      ]
     },
     "metadata": {},
     "output_type": "display_data"
    },
    {
     "name": "stdout",
     "output_type": "stream",
     "text": [
      "Max: 180\n",
      "Mean: 3.6243282853\n",
      "Median: 2.0\n"
     ]
    }
   ],
   "source": [
    "# Repeat calls\n",
    "uniques, counts = np.unique(logs['from'], return_counts=True)\n",
    "plt.hist(counts, bins=200)\n",
    "plt.show()\n",
    "\n",
    "print 'Max:', max(counts)     # caller in PA\n",
    "print 'Mean:', np.mean(counts)\n",
    "print 'Median:', np.median(counts)"
   ]
  },
  {
   "cell_type": "code",
   "execution_count": null,
   "metadata": {
    "collapsed": false,
    "deletable": true,
    "editable": true
   },
   "outputs": [],
   "source": [
    "merged_group = merged.groupby(['to', 'person__name'])\n",
    "merged_sum = merged_group.sum()\n",
    "merged_count = merged_group.agg('count').sort_values(by='status', ascending=False)"
   ]
  },
  {
   "cell_type": "code",
   "execution_count": null,
   "metadata": {
    "collapsed": false,
    "deletable": true,
    "editable": true,
    "scrolled": true
   },
   "outputs": [],
   "source": [
    "merged_sum.sort_values(by=['minutes'], ascending=False)"
   ]
  },
  {
   "cell_type": "code",
   "execution_count": null,
   "metadata": {
    "collapsed": false,
    "deletable": true,
    "editable": true
   },
   "outputs": [],
   "source": [
    "busy = merged[merged['status'] == 'busy']\n",
    "not_busy = merged[merged['status'] != 'busy']\n",
    "busy_group = busy.groupby(['to', 'person__name'])"
   ]
  },
  {
   "cell_type": "code",
   "execution_count": null,
   "metadata": {
    "collapsed": false,
    "deletable": true,
    "editable": true
   },
   "outputs": [],
   "source": [
    "busiest = busy_group.agg('count').sort_values(by='status', ascending=False)"
   ]
  },
  {
   "cell_type": "code",
   "execution_count": null,
   "metadata": {
    "collapsed": false,
    "deletable": true,
    "editable": true
   },
   "outputs": [],
   "source": [
    "busiest.reset_index(inplace=True)"
   ]
  },
  {
   "cell_type": "code",
   "execution_count": null,
   "metadata": {
    "collapsed": false,
    "deletable": true,
    "editable": true
   },
   "outputs": [],
   "source": [
    "merged_count.reset_index(inplace=True)"
   ]
  },
  {
   "cell_type": "code",
   "execution_count": null,
   "metadata": {
    "collapsed": false,
    "deletable": true,
    "editable": true
   },
   "outputs": [],
   "source": [
    "busy_ratio = merged_count.merge(busiest, left_on='to', right_on='to')"
   ]
  },
  {
   "cell_type": "code",
   "execution_count": null,
   "metadata": {
    "collapsed": true,
    "deletable": true,
    "editable": true
   },
   "outputs": [],
   "source": [
    "busy_ratio['busy_ratio'] = busy_ratio['status_y'] / busy_ratio['status_x'] * 100"
   ]
  },
  {
   "cell_type": "code",
   "execution_count": null,
   "metadata": {
    "collapsed": false,
    "deletable": true,
    "editable": true
   },
   "outputs": [],
   "source": [
    "final = busy_ratio[['person__name_x', 'to', 'busy_ratio', 'status_x', 'status_y']].sort_values(by=['busy_ratio'], ascending=False)\n",
    "final.columns = ['Person', 'Phone', 'Busy Ratio %', 'Total #', 'Busy #']"
   ]
  },
  {
   "cell_type": "code",
   "execution_count": null,
   "metadata": {
    "collapsed": false,
    "deletable": true,
    "editable": true
   },
   "outputs": [],
   "source": [
    "final"
   ]
  },
  {
   "cell_type": "code",
   "execution_count": null,
   "metadata": {
    "collapsed": false,
    "deletable": true,
    "editable": true
   },
   "outputs": [],
   "source": [
    "final[final['Total #'] > 10]"
   ]
  },
  {
   "cell_type": "code",
   "execution_count": null,
   "metadata": {
    "collapsed": false,
    "deletable": true,
    "editable": true
   },
   "outputs": [],
   "source": [
    "merged_sum.reset_index().merge(final, left_on='person__name', right_on='Person')"
   ]
  },
  {
   "cell_type": "code",
   "execution_count": null,
   "metadata": {
    "collapsed": true,
    "deletable": true,
    "editable": true
   },
   "outputs": [],
   "source": []
  }
 ],
 "metadata": {
  "kernelspec": {
   "display_name": "Python 2",
   "language": "python",
   "name": "python2"
  },
  "language_info": {
   "codemirror_mode": {
    "name": "ipython",
    "version": 2
   },
   "file_extension": ".py",
   "mimetype": "text/x-python",
   "name": "python",
   "nbconvert_exporter": "python",
   "pygments_lexer": "ipython2",
   "version": "2.7.11"
  }
 },
 "nbformat": 4,
 "nbformat_minor": 2
}
